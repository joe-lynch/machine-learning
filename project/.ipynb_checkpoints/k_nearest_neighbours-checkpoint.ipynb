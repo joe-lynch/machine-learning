{
 "cells": [
  {
   "cell_type": "markdown",
   "metadata": {},
   "source": [
    "# Preliminaries\n",
    "<hr style=\"border:2px solid gray\"></hr>"
   ]
  },
  {
   "cell_type": "markdown",
   "metadata": {},
   "source": [
    "### Import libraries\n",
    "Import the appropriate libraries to be used throughout this notebook."
   ]
  },
  {
   "cell_type": "code",
   "execution_count": 1,
   "metadata": {},
   "outputs": [],
   "source": [
    "import pandas as pd\n",
    "import numpy as np\n",
    "import math\n",
    "import matplotlib.pyplot as plt\n",
    "import itertools as it\n",
    "import copy"
   ]
  },
  {
   "cell_type": "markdown",
   "metadata": {},
   "source": [
    "### Train, test, verification split\n",
    "Defines a function that splits the data into three groups, depending on the input parameters."
   ]
  },
  {
   "cell_type": "code",
   "execution_count": 2,
   "metadata": {},
   "outputs": [],
   "source": [
    "def train_test_verification_split(X, y, split_tr, split_v, split_te):    \n",
    "    # define the data split\n",
    "    total_count = X.shape[0]\n",
    "    split = int(total_count * split_tr)\n",
    "    return X[:split], y[:split], X[split:], y[split:]"
   ]
  },
  {
   "cell_type": "markdown",
   "metadata": {},
   "source": [
    "### Utility class\n",
    "\n",
    "This function computes the root mean squared error, given the actual data and the predicted data of the target variable."
   ]
  },
  {
   "cell_type": "code",
   "execution_count": 3,
   "metadata": {},
   "outputs": [],
   "source": [
    "class util():\n",
    "    @staticmethod\n",
    "    def score(actual, prediction):\n",
    "        return math.sqrt(np.mean((actual - prediction)**2))\n",
    "    \n",
    "    @staticmethod\n",
    "    def squared_error(actual, prediction):\n",
    "        return np.sum((actual - prediction)**2)\n",
    "    \n",
    "    @staticmethod\n",
    "    def mean_absolute_error(actual, prediction):\n",
    "        return np.sum(np.fabs(actual - prediction)) / actual.shape[0]"
   ]
  },
  {
   "cell_type": "markdown",
   "metadata": {},
   "source": [
    " "
   ]
  },
  {
   "cell_type": "markdown",
   "metadata": {},
   "source": [
    "# Read the appropriate data\n",
    "<hr style=\"border:2px solid gray\"></hr>"
   ]
  },
  {
   "cell_type": "markdown",
   "metadata": {},
   "source": [
    "### Toy Problem\n",
    "Run the code block below to work with the toy problem throughout the rest of this notebook."
   ]
  },
  {
   "cell_type": "code",
   "execution_count": 4,
   "metadata": {},
   "outputs": [
    {
     "name": "stdout",
     "output_type": "stream",
     "text": [
      "Using the toy problem...\n",
      "Splitting data...\n"
     ]
    },
    {
     "data": {
      "image/png": "[encoded data removed]",
      "text/plain": [
       "<Figure size 432x288 with 1 Axes>"
      ]
     },
     "metadata": {
      "needs_background": "light"
     },
     "output_type": "display_data"
    }
   ],
   "source": [
    "toy_problem = True\n",
    "print(\"Using the toy problem...\")\n",
    "f = lambda x: np.sin(0.9*x)\n",
    "#f = lambda x: np.exp(x)\n",
    "#f = lambda x: 2*x+4\n",
    "\n",
    "X_data = np.linspace(-5,5,100).reshape(-1,1)\n",
    "y_data = f(X_data)\n",
    "\n",
    "df = pd.DataFrame(np.c_[X_data, y_data])\n",
    "# shuffle data\n",
    "df = df.sample(frac=1).reset_index(drop=True)\n",
    "\n",
    "# split off the target variable\n",
    "X, y = df.iloc[:,:-1], df.iloc[:,-1]\n",
    "# normalise data\n",
    "X = (X - X.min()) / (X.max() - X.min())\n",
    "\n",
    "print(\"Splitting data...\")\n",
    "X_train, y_train, X_test, y_test = train_test_verification_split(X, y, 0.6, 0.2, 0.2)\n",
    "\n",
    "plt.plot(X, y, \"r+\")\n",
    "plt.xlabel(\"Independent variable X\")\n",
    "plt.ylabel(\"Target variable y\")\n",
    "plt.show()"
   ]
  },
  {
   "cell_type": "markdown",
   "metadata": {},
   "source": [
    "### SARCOS dataset\n",
    "Run the code block below to work with the SARCOS dataset throughout the rest of this notebook."
   ]
  },
  {
   "cell_type": "code",
   "execution_count": 14,
   "metadata": {},
   "outputs": [
    {
     "name": "stdout",
     "output_type": "stream",
     "text": [
      "Using the SARCOS dataset...\n",
      "Splitting data...\n"
     ]
    }
   ],
   "source": [
    "toy_problem = False\n",
    "print(\"Using the SARCOS dataset...\")\n",
    "# read in csv file\n",
    "df = pd.read_csv(\"sarcos_inv.csv\", header=None)\n",
    "# shuffle data\n",
    "df = df.sample(frac=1).reset_index(drop=True)\n",
    "\n",
    "# split off the target variable\n",
    "X, y = df.iloc[:,:-1], df.iloc[:,-1]\n",
    "# normalise data\n",
    "X = (X - X.min()) / (X.max() - X.min())\n",
    "\n",
    "print(\"Splitting data...\")\n",
    "X_train, y_train, X_test, y_test = train_test_verification_split(X, y, 0.6, 0.2, 0.2)"
   ]
  },
  {
   "cell_type": "markdown",
   "metadata": {},
   "source": [
    " "
   ]
  },
  {
   "cell_type": "markdown",
   "metadata": {},
   "source": [
    "# K Nearest Neighbours regression\n",
    "<hr style=\"border:2px solid gray\"></hr>\n",
    "This is my implementation of K Nearest Neighbours regression."
   ]
  },
  {
   "cell_type": "markdown",
   "metadata": {},
   "source": [
    "#### KNN class\n",
    "A class with methods for fitting a model to data and predicting values for given test data."
   ]
  },
  {
   "cell_type": "code",
   "execution_count": 15,
   "metadata": {},
   "outputs": [],
   "source": [
    "class k_nearest_neighbours():\n",
    "    \n",
    "    def __init__(self, k):\n",
    "        self.k = k\n",
    "        \n",
    "    def fit(self, X_train, y_train):\n",
    "        self.X_train = X_train\n",
    "        self.y_train = y_train\n",
    "    \n",
    "    def predict(self, X):\n",
    "        # compute distance matrix\n",
    "        distances_sq = np.einsum('ij, ij ->i', X, X)[:, None] +\\\n",
    "                    np.einsum('ij, ij ->i', self.X_train, self.X_train) -\\\n",
    "                    2 * X.dot(self.X_train.T)\n",
    "    \n",
    "        # calculate the mean of the k neighbours - the prediction\n",
    "        y_pred = np.mean(self.y_train[np.argsort(distances_sq)[:,:self.k]], axis=1)\n",
    "        \n",
    "        #return the prediction\n",
    "        return y_pred"
   ]
  },
  {
   "cell_type": "markdown",
   "metadata": {},
   "source": [
    "#### Perform KNN\n",
    "Function to create object of the KNN class, that calls the fit function using the training data, and calls the predict function to predict the values using the test data."
   ]
  },
  {
   "cell_type": "code",
   "execution_count": 16,
   "metadata": {},
   "outputs": [],
   "source": [
    "def perform_knn(k, X_tr, y_tr, X_, y_):    \n",
    "    # train\n",
    "    knn_regressor = k_nearest_neighbours(k)\n",
    "    knn_regressor.fit(X_tr.values, y_tr.values)\n",
    "    \n",
    "    # predict\n",
    "    y_pred = knn_regressor.predict(X_.values)\n",
    "\n",
    "    # compute rmse\n",
    "    rmse = util.score(y_.values.flatten(), y_pred.flatten())\n",
    "    print(\"The RMSE for k={} is {}\".format(k, rmse))  \n",
    "    \n",
    "    return rmse, y_pred"
   ]
  },
  {
   "cell_type": "markdown",
   "metadata": {},
   "source": [
    "#### Cross validation\n",
    "Function defined to perform cross validation on the data set."
   ]
  },
  {
   "cell_type": "code",
   "execution_count": 17,
   "metadata": {},
   "outputs": [],
   "source": [
    "def cross_validate(data, k):\n",
    "    lists = np.split(data, 5)\n",
    "    rmse_arr = []\n",
    "    for test_set in lists:\n",
    "        X_test = pd.DataFrame(test_set[:,:-1])\n",
    "        y_test = pd.DataFrame(test_set[:,-1])\n",
    "        train_set = []\n",
    "        \n",
    "        for i in lists:\n",
    "            if not np.all(np.isclose(test_set, i)):\n",
    "                train_set.append(i)\n",
    "        \n",
    "        train_set1 = np.asarray(train_set)\n",
    "        train_set2 = train_set1.reshape(train_set1.shape[0]*train_set1.shape[1], train_set1.shape[2])\n",
    "\n",
    "        X_tr = pd.DataFrame(train_set2[:,:-1])\n",
    "        y_tr = pd.DataFrame(train_set2[:,-1])\n",
    "          \n",
    "        rmse, _, = perform_knn(k, X_tr, y_tr, X_test, y_test)\n",
    "        rmse_arr.append(rmse)\n",
    "    return np.mean(rmse_arr)   "
   ]
  },
  {
   "cell_type": "markdown",
   "metadata": {},
   "source": [
    "#### Hyperparameter Tuning\n",
    "The hyperparamters are tuned using the verification set. Find the best amount of neighbours."
   ]
  },
  {
   "cell_type": "code",
   "execution_count": 18,
   "metadata": {},
   "outputs": [],
   "source": [
    "# find the best k using the verfication set\n",
    "def get_best_k(max_k):\n",
    "    rmse_arr = []\n",
    "    for k in range(1, max_k+1):\n",
    "        rmse = cross_validate(np.c_[X_train, y_train], k)\n",
    "        rmse_arr.append(rmse)\n",
    "    return np.argmin(rmse_arr)+1, rmse_arr"
   ]
  },
  {
   "cell_type": "code",
   "execution_count": 19,
   "metadata": {
    "scrolled": false
   },
   "outputs": [
    {
     "name": "stdout",
     "output_type": "stream",
     "text": [
      "This will take a couple minutes...\n",
      "Finding the best k value using cross validation...\n",
      "The RMSE for k=1 is 4.817611128665259\n",
      "The RMSE for k=1 is 4.795628755130695\n",
      "The RMSE for k=1 is 4.896315305344359\n",
      "The RMSE for k=1 is 4.755450688677369\n",
      "The RMSE for k=1 is 4.724763749052875\n",
      "The RMSE for k=2 is 4.1410433110038865\n",
      "The RMSE for k=2 is 4.161075921633507\n",
      "The RMSE for k=2 is 4.063664913325324\n",
      "The RMSE for k=2 is 4.159242532211097\n",
      "The RMSE for k=2 is 3.99878266385723\n",
      "The RMSE for k=3 is 4.020970343629696\n",
      "The RMSE for k=3 is 4.102352426079703\n",
      "The RMSE for k=3 is 4.052159135330823\n",
      "The RMSE for k=3 is 4.119636526229787\n",
      "The RMSE for k=3 is 3.9175480573317594\n",
      "The RMSE for k=4 is 4.122963832251955\n",
      "The RMSE for k=4 is 4.1609045943484135\n",
      "The RMSE for k=4 is 4.180164887657464\n",
      "The RMSE for k=4 is 4.17591716727383\n",
      "The RMSE for k=4 is 4.090983295721039\n",
      "The RMSE for k=5 is 4.191493328885723\n",
      "The RMSE for k=5 is 4.294117376790696\n",
      "The RMSE for k=5 is 4.310864352359444\n",
      "The RMSE for k=5 is 4.291169825574495\n",
      "The RMSE for k=5 is 4.181623984784678\n",
      "The RMSE for k=6 is 4.335327372123893\n",
      "The RMSE for k=6 is 4.408942717116228\n",
      "The RMSE for k=6 is 4.419882213231693\n",
      "The RMSE for k=6 is 4.418312684222734\n",
      "The RMSE for k=6 is 4.345918249325874\n",
      "The RMSE for k=7 is 4.5057289613167395\n",
      "The RMSE for k=7 is 4.524105267570112\n",
      "The RMSE for k=7 is 4.509367839946954\n",
      "The RMSE for k=7 is 4.537599448681285\n",
      "The RMSE for k=7 is 4.4667188859756255\n",
      "The RMSE for k=8 is 4.6293596218528075\n",
      "The RMSE for k=8 is 4.6398325546125605\n",
      "The RMSE for k=8 is 4.621618631191874\n",
      "The RMSE for k=8 is 4.666753981013931\n",
      "The RMSE for k=8 is 4.578478165186815\n",
      "The RMSE for k=9 is 4.774361831325818\n",
      "The RMSE for k=9 is 4.7818605949672515\n",
      "The RMSE for k=9 is 4.710587225122762\n",
      "The RMSE for k=9 is 4.767749883690838\n",
      "The RMSE for k=9 is 4.7378342197069365\n",
      "The RMSE for k=10 is 4.93419162311128\n",
      "The RMSE for k=10 is 4.92586251514361\n",
      "The RMSE for k=10 is 4.815410153316791\n",
      "The RMSE for k=10 is 4.906771203035861\n",
      "The RMSE for k=10 is 4.843657655389025\n"
     ]
    }
   ],
   "source": [
    "print(\"This will take a couple minutes...\")\n",
    "print(\"Finding the best k value using cross validation...\")\n",
    "# tune the hyperparameter with the verification set\n",
    "max_k = 10\n",
    "best_k, rmse_arr = get_best_k(max_k)"
   ]
  },
  {
   "cell_type": "markdown",
   "metadata": {},
   "source": [
    "#### Use the trained model to predict with the test data\n",
    "The model has been trained with the data above, now use the best K that was calcualted above, and use that to predict with the test data."
   ]
  },
  {
   "cell_type": "code",
   "execution_count": 20,
   "metadata": {},
   "outputs": [
    {
     "name": "stdout",
     "output_type": "stream",
     "text": [
      "\n",
      "Performing the trained model on the test set with the best k, k=3...\n",
      "The RMSE for k=3 is 3.6902796321133136\n"
     ]
    }
   ],
   "source": [
    "print(\"\\nPerforming the trained model on the test set with the best k, k={}...\".format(best_k))\n",
    "rmse_test, y_pred = perform_knn(best_k, X_train, y_train, X_test, y_test)"
   ]
  },
  {
   "cell_type": "markdown",
   "metadata": {},
   "source": [
    "#### Plot the 'elbow curve'\n",
    "The elbow curve helps us see the best K value. We can confirm that our choice above was correct."
   ]
  },
  {
   "cell_type": "code",
   "execution_count": 21,
   "metadata": {},
   "outputs": [
    {
     "data": {
      "image/png": "[encoded data removed]",
      "text/plain": [
       "<Figure size 432x288 with 1 Axes>"
      ]
     },
     "metadata": {
      "needs_background": "light"
     },
     "output_type": "display_data"
    }
   ],
   "source": [
    "plt.plot(np.arange(1,max_k+1), rmse_arr, \"r-\")\n",
    "plt.xticks(np.arange(1,max_k+1))\n",
    "plt.xlabel(\"K Nearest Neighbours\")\n",
    "plt.ylabel(\"Root Mean Squared Error\")\n",
    "plt.show()"
   ]
  },
  {
   "cell_type": "markdown",
   "metadata": {},
   "source": [
    "#### Plot to check that KNN works for the toy problem\n",
    "Given that the toy problem is being used and not the SARCOS dataset, then this codeblock plots various graphs comparing predicted data to actual data."
   ]
  },
  {
   "cell_type": "code",
   "execution_count": 13,
   "metadata": {
    "scrolled": false
   },
   "outputs": [
    {
     "data": {
      "image/png": "[encoded data removed]",
      "text/plain": [
       "<Figure size 432x288 with 1 Axes>"
      ]
     },
     "metadata": {
      "needs_background": "light"
     },
     "output_type": "display_data"
    },
    {
     "data": {
      "image/png": "[encoded data removed]",
      "text/plain": [
       "<Figure size 432x288 with 1 Axes>"
      ]
     },
     "metadata": {
      "needs_background": "light"
     },
     "output_type": "display_data"
    },
    {
     "data": {
      "image/png": "[encoded data removed]",
      "text/plain": [
       "<Figure size 432x288 with 1 Axes>"
      ]
     },
     "metadata": {
      "needs_background": "light"
     },
     "output_type": "display_data"
    }
   ],
   "source": [
    "if toy_problem:\n",
    "    plt.plot(X_test, y_test, \"r+\")\n",
    "    plt.title(\"Actual data\")\n",
    "    plt.xlabel(\"Independent variable X\")\n",
    "    plt.ylabel(\"Target variable y\")\n",
    "    plt.show()\n",
    "\n",
    "    plt.plot(X_test, y_pred, \"r+\")\n",
    "    plt.title(\"Predicted data\")\n",
    "    plt.xlabel(\"Independent variable X\")\n",
    "    plt.ylabel(\"Target variable y\")\n",
    "    plt.show()\n",
    "\n",
    "    plt.plot(np.sort(X_test.values.flatten()), y_test.values[np.argsort(X_test.values.flatten())], \"b-\", label=\"actual data\")\n",
    "    plt.plot(X_test, y_pred, \"r+\", markersize=20, label=\"predicted data\")\n",
    "    plt.title(\"Comparison between actual and predicted data\")\n",
    "    plt.xlabel(\"Feature variable X\")\n",
    "    plt.ylabel(\"Target variable y\")\n",
    "    plt.legend()\n",
    "    plt.show()"
   ]
  }
 ],
 "metadata": {
  "kernelspec": {
   "display_name": "Python 3",
   "language": "python",
   "name": "python3"
  },
  "language_info": {
   "codemirror_mode": {
    "name": "ipython",
    "version": 3
   },
   "file_extension": ".py",
   "mimetype": "text/x-python",
   "name": "python",
   "nbconvert_exporter": "python",
   "pygments_lexer": "ipython3",
   "version": "3.7.4"
  }
 },
 "nbformat": 4,
 "nbformat_minor": 2
}
