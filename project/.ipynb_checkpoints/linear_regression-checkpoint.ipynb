{
 "cells": [
  {
   "cell_type": "markdown",
   "metadata": {},
   "source": [
    "# Preliminaries\n",
    "<hr style=\"border:2px solid gray\"></hr>"
   ]
  },
  {
   "cell_type": "markdown",
   "metadata": {},
   "source": [
    "### Import libraries\n",
    "Import the appropriate libraries to be used throughout this notebook."
   ]
  },
  {
   "cell_type": "code",
   "execution_count": 1,
   "metadata": {},
   "outputs": [],
   "source": [
    "import pandas as pd\n",
    "import numpy as np\n",
    "import math\n",
    "import matplotlib.pyplot as plt\n",
    "import itertools as it\n",
    "import time"
   ]
  },
  {
   "cell_type": "markdown",
   "metadata": {},
   "source": [
    "### Train, test, verification split\n",
    "Defines a function that splits the data into three groups, depending on the input parameters."
   ]
  },
  {
   "cell_type": "code",
   "execution_count": 2,
   "metadata": {},
   "outputs": [],
   "source": [
    "def train_test_verification_split(X, y, split_tr, split_v, split_te):    \n",
    "    # define the data split\n",
    "    total_count = X.shape[0]\n",
    "    train_split = int(total_count * split_tr)\n",
    "    ver_split = int(total_count * split_v) + train_split\n",
    "    test_split = int(total_count * split_te) + ver_split\n",
    "    return X[:train_split], y[:train_split], X[train_split:ver_split], y[train_split:ver_split], X[ver_split:test_split], y[ver_split:test_split]"
   ]
  },
  {
   "cell_type": "markdown",
   "metadata": {},
   "source": [
    "### Utility class\n",
    "\n",
    "This function computes the root mean squared error, given the actual data and the predicted data of the target variable."
   ]
  },
  {
   "cell_type": "code",
   "execution_count": 3,
   "metadata": {},
   "outputs": [],
   "source": [
    "class util():\n",
    "    @staticmethod\n",
    "    def score(actual, prediction):\n",
    "        return math.sqrt(np.mean((actual - prediction)**2))\n",
    "    \n",
    "    @staticmethod\n",
    "    def squared_error(actual, prediction):\n",
    "        return np.sum((actual - prediction)**2)\n",
    "    \n",
    "    @staticmethod\n",
    "    def mean_absolute_error(actual, prediction):\n",
    "        return np.sum(np.fabs(actual - prediction)) / actual.shape[0]"
   ]
  },
  {
   "cell_type": "markdown",
   "metadata": {},
   "source": [
    " "
   ]
  },
  {
   "cell_type": "markdown",
   "metadata": {},
   "source": [
    "\n",
    "# Read the data\n",
    "<hr style=\"border:2px solid gray\"></hr>\n",
    "If you run the toy problem codeblock or the SARCOS dataset codeblock, then it will use that data for the rest of the notebook. Therefore, run the codeblock with the data you want to use, and not the codeblock that you don't want to use."
   ]
  },
  {
   "cell_type": "markdown",
   "metadata": {},
   "source": [
    "### Toy problem\n",
    "Run the code block below to work with the toy problem throughout the rest of this notebook."
   ]
  },
  {
   "cell_type": "code",
   "execution_count": 4,
   "metadata": {},
   "outputs": [
    {
     "name": "stdout",
     "output_type": "stream",
     "text": [
      "Using the toy problem...\n",
      "Splitting data...\n"
     ]
    },
    {
     "data": {
      "image/png": "[encoded data removed]",
      "text/plain": [
       "<Figure size 432x288 with 1 Axes>"
      ]
     },
     "metadata": {
      "needs_background": "light"
     },
     "output_type": "display_data"
    }
   ],
   "source": [
    "toy_problem = True\n",
    "print(\"Using the toy problem...\")\n",
    "f = lambda x: np.sin(0.9*x)\n",
    "#f = lambda x: np.exp(x)\n",
    "#f = lambda x: 2*x+4\n",
    "\n",
    "X_data = np.linspace(-5,5,100).reshape(-1,1)\n",
    "y_data = f(X_data)\n",
    "\n",
    "df = pd.DataFrame(np.c_[X_data, y_data])\n",
    "# shuffle data\n",
    "df = df.sample(frac=1).reset_index(drop=True)\n",
    "\n",
    "# split off the target variable\n",
    "X, y = df.iloc[:,:-1], df.iloc[:,-1]\n",
    "# normalise data\n",
    "X = (X - X.min()) / (X.max() - X.min())\n",
    "\n",
    "print(\"Splitting data...\")\n",
    "X_train, y_train, X_ver, y_ver, X_test, y_test = train_test_verification_split(X, y, 0.6, 0.2, 0.2)\n",
    "\n",
    "plt.plot(X, y, \"r+\")\n",
    "plt.title(\"The whole dataset\")\n",
    "plt.xlabel(\"X\")\n",
    "plt.ylabel(\"y\")\n",
    "plt.show()"
   ]
  },
  {
   "cell_type": "markdown",
   "metadata": {},
   "source": [
    "### SARCOS dataset\n",
    "Run the code block below to work with the SARCOS dataset throughout the rest of this notebook."
   ]
  },
  {
   "cell_type": "code",
   "execution_count": 11,
   "metadata": {},
   "outputs": [
    {
     "name": "stdout",
     "output_type": "stream",
     "text": [
      "Using the SARCOS dataset...\n",
      "Splitting data...\n"
     ]
    }
   ],
   "source": [
    "toy_problem = False\n",
    "print(\"Using the SARCOS dataset...\")\n",
    "# read in csv file\n",
    "df = pd.read_csv(\"sarcos_inv.csv\", header=None)\n",
    "# shuffle data\n",
    "df = df.sample(frac=1).reset_index(drop=True)\n",
    "\n",
    "# split off the target variable\n",
    "X, y = df.iloc[:,:-1], df.iloc[:,-1]\n",
    "# normalise data\n",
    "X = (X - X.min()) / (X.max() - X.min())\n",
    "\n",
    "print(\"Splitting data...\")\n",
    "X_train, y_train, X_ver, y_ver, X_test, y_test = train_test_verification_split(X, y, 0.6, 0.2, 0.2)"
   ]
  },
  {
   "cell_type": "markdown",
   "metadata": {},
   "source": [
    " "
   ]
  },
  {
   "cell_type": "markdown",
   "metadata": {},
   "source": [
    "# Linear regression\n",
    "<hr style=\"border:2px solid gray\"></hr>"
   ]
  },
  {
   "cell_type": "markdown",
   "metadata": {},
   "source": [
    "#### Class to perform linear regression\n",
    "The class consists of methods to prepend ones, normalise, and fit the model to the data, and predict with test data. When fitting the model to the data, the parameters are iteratively redefined in order to find the optimal parameters."
   ]
  },
  {
   "cell_type": "code",
   "execution_count": 12,
   "metadata": {},
   "outputs": [],
   "source": [
    "class linear_regression():\n",
    "    def __init__(self, alpha=0.1, n_iter=100000, convergence_threshold=1e-12):\n",
    "        self.alpha = alpha\n",
    "        self.n_iter = n_iter\n",
    "        self.convergence_threshold = convergence_threshold\n",
    "    \n",
    "    def prepend_ones(self, X):\n",
    "        return np.c_[np.ones(X.shape[0]), self.normalise(X)]\n",
    "        \n",
    "    def normalise(self, X):\n",
    "        return (X - np.mean(X, 0)) / np.std(X, 0)\n",
    "        \n",
    "    def fit(self, X_train, y_train):\n",
    "        # initialise variables\n",
    "        self.X_train, self.y_train = X_train, y_train\n",
    "        self.n_exemplars, self.n_features = X_train.shape[0], X_train.shape[1]\n",
    "        self.params = np.zeros((self.n_features + 1, 1))\n",
    "        \n",
    "        # redefine X_train and y_train for linear regression\n",
    "        self.X_train = self.prepend_ones(self.X_train)\n",
    "        self.y_train = self.y_train[:, np.newaxis]\n",
    "\n",
    "        # iteratively redefine the parameters to get optimal paramters\n",
    "        for i in range(self.n_iter):\n",
    "            \n",
    "            def run_iter(w_current):\n",
    "                converged = False\n",
    "                E_current = self.cost((self.X_train @ w_current - self.y_train))\n",
    "\n",
    "                grad_w = self.X_train.T @ (self.X_train @ self.params - self.y_train)\n",
    "                w_new = self.params - (self.alpha/self.n_exemplars) * grad_w\n",
    "                \n",
    "                E_new = self.cost((self.X_train @ w_new - self.y_train))\n",
    "\n",
    "                if(E_new > E_current):\n",
    "                    self.alpha = self.alpha*0.5\n",
    "                    w_new, converged = run_iter(w_current) \n",
    "                    \n",
    "                if(np.fabs(E_new - E_current) < self.convergence_threshold):\n",
    "                    print(\"Converged!\")\n",
    "                    converged = True\n",
    "            \n",
    "                w_current = w_new\n",
    "                return w_current, converged\n",
    "                \n",
    "            self.params, converged = run_iter(self.params)\n",
    "            \n",
    "            if converged:\n",
    "                break;\n",
    "          \n",
    "    def predict(self, X):\n",
    "        y_pred = self.prepend_ones(X) @ self.params\n",
    "        return y_pred.flatten()\n",
    "    \n",
    "    def cost(self, prediction):\n",
    "        return np.sum((prediction - self.y_train)**2) / (2 * self.y_train.shape[0])"
   ]
  },
  {
   "cell_type": "markdown",
   "metadata": {},
   "source": [
    "#### Make predictions using the test data\n",
    "Instantiate an object of the linear regression class, fit the model to the training data using the fit function. Use the predict function to get prediction for the test data. Compute the RMSE and MAE of the predictions, and the elapsed time."
   ]
  },
  {
   "cell_type": "code",
   "execution_count": 13,
   "metadata": {},
   "outputs": [
    {
     "name": "stdout",
     "output_type": "stream",
     "text": [
      "This will only take a few seconds...\n",
      "Converged!\n",
      "Evaluating RMSE...\n",
      "\n",
      "The RMSE for test set is 5.5590179481563\n",
      "The MAE for test set is 3.942101032093501\n",
      "Time taken: 5.39827299118042\n"
     ]
    }
   ],
   "source": [
    "print(\"This will only take a few seconds...\")\n",
    "start_time = time.time()\n",
    "\n",
    "lr_regressor = linear_regression(alpha=0.1, n_iter=100000)\n",
    "lr_regressor.fit(X_train, y_train)\n",
    "\n",
    "y_pred = lr_regressor.predict(X_test)\n",
    "elapsed_time = time.time() - start_time\n",
    "\n",
    "print(\"Evaluating RMSE...\\n\")\n",
    "rmse_test = util.score(y_test, y_pred)\n",
    "\n",
    "print(\"The RMSE for test set is {}\".format(rmse_test))\n",
    "print(\"The MAE for test set is {}\".format(util.mean_absolute_error(y_test, y_pred)))\n",
    "print(\"Time taken:\", elapsed_time)"
   ]
  },
  {
   "cell_type": "markdown",
   "metadata": {},
   "source": [
    "#### Elapsed time with no convergence check\n",
    "Calculate how long it takes to make predictions with the test data and compute the RMSE when no convergence check is used in the implementation of linear regression."
   ]
  },
  {
   "cell_type": "code",
   "execution_count": 14,
   "metadata": {},
   "outputs": [
    {
     "name": "stdout",
     "output_type": "stream",
     "text": [
      "Evaluating RMSE...\n",
      "\n",
      "The RMSE around test set is 5.559017948154356\n",
      "Time taken: 72.03499507904053\n"
     ]
    }
   ],
   "source": [
    "import time\n",
    "start_time = time.time()\n",
    "\n",
    "lr_regressor = linear_regression(alpha=0.1, n_iter=100000, convergence_threshold=-1)\n",
    "lr_regressor.fit(X_train, y_train)\n",
    "\n",
    "y_pred = lr_regressor.predict(X_test)\n",
    "elapsed_time = time.time() - start_time\n",
    "\n",
    "print(\"Evaluating RMSE...\\n\")\n",
    "rmse_test = util.score(y_test, y_pred)\n",
    "\n",
    "print(\"The RMSE around test set is {}\".format(rmse_test))\n",
    "print(\"Time taken:\", elapsed_time)"
   ]
  },
  {
   "cell_type": "markdown",
   "metadata": {},
   "source": [
    "#### Test the initial learning rates on the verification set\n",
    "Use different initial learning rates to tune this hyperparameter."
   ]
  },
  {
   "cell_type": "code",
   "execution_count": 9,
   "metadata": {},
   "outputs": [
    {
     "name": "stdout",
     "output_type": "stream",
     "text": [
      "Converged!\n",
      "Evaluating RMSE...\n",
      "\n",
      "The RMSE around test set is 0.6716935539747808\n",
      "Time taken: 0.04588055610656738\n",
      "Converged!\n",
      "Evaluating RMSE...\n",
      "\n",
      "The RMSE around test set is 0.6716935539747808\n",
      "Time taken: 0.024935245513916016\n",
      "Converged!\n",
      "Evaluating RMSE...\n",
      "\n",
      "The RMSE around test set is 0.6716935539747808\n",
      "Time taken: 0.027924060821533203\n",
      "Converged!\n",
      "Evaluating RMSE...\n",
      "\n",
      "The RMSE around test set is 0.6716935539747808\n",
      "Time taken: 0.016954898834228516\n",
      "Converged!\n",
      "Evaluating RMSE...\n",
      "\n",
      "The RMSE around test set is 0.6716935539747808\n",
      "Time taken: 0.018949508666992188\n",
      "Converged!\n",
      "Evaluating RMSE...\n",
      "\n",
      "The RMSE around test set is 0.6716935539747808\n",
      "Time taken: 0.017953157424926758\n"
     ]
    }
   ],
   "source": [
    "for i in [0.00001, 0.001, 0.01, 0.03, 0.1, 0.3]:\n",
    "    import time\n",
    "    start_time = time.time()\n",
    "\n",
    "    lr_regressor = linear_regression(alpha=0.1, n_iter=100000)\n",
    "    lr_regressor.fit(X_train, y_train)\n",
    "\n",
    "    y_pred = lr_regressor.predict(X_ver)\n",
    "    elapsed_time = time.time() - start_time\n",
    "\n",
    "    print(\"Evaluating RMSE...\\n\")\n",
    "    rmse_ver = util.score(y_ver, y_pred)\n",
    "\n",
    "    print(\"The RMSE around test set is {}\".format(rmse_ver))\n",
    "    print(\"Time taken:\", elapsed_time)"
   ]
  },
  {
   "cell_type": "markdown",
   "metadata": {},
   "source": [
    "#### Plot to check that KNN works for the toy problem\n",
    "Given that the toy problem is being used and not the SARCOS dataset, then this codeblock plots various graphs comparing predicted data to actual data."
   ]
  },
  {
   "cell_type": "code",
   "execution_count": 10,
   "metadata": {},
   "outputs": [
    {
     "data": {
      "image/png": "[encoded data removed]",
      "text/plain": [
       "<Figure size 432x288 with 1 Axes>"
      ]
     },
     "metadata": {
      "needs_background": "light"
     },
     "output_type": "display_data"
    },
    {
     "data": {
      "image/png": "[encoded data removed]",
      "text/plain": [
       "<Figure size 432x288 with 1 Axes>"
      ]
     },
     "metadata": {
      "needs_background": "light"
     },
     "output_type": "display_data"
    },
    {
     "data": {
      "image/png": "[encoded data removed]",
      "text/plain": [
       "<Figure size 432x288 with 1 Axes>"
      ]
     },
     "metadata": {
      "needs_background": "light"
     },
     "output_type": "display_data"
    },
    {
     "data": {
      "image/png": "[encoded data removed]",
      "text/plain": [
       "<Figure size 432x288 with 1 Axes>"
      ]
     },
     "metadata": {
      "needs_background": "light"
     },
     "output_type": "display_data"
    }
   ],
   "source": [
    "if toy_problem:\n",
    "    plt.plot(X_test, y_test, \"r+\")\n",
    "    plt.title(\"The actual data\")\n",
    "    plt.show()\n",
    "\n",
    "    plt.plot(X_test, y_pred, \"r+\")\n",
    "    plt.title(\"The predicted data\")\n",
    "    plt.axis([0,1,-1,1])\n",
    "    plt.show()\n",
    "    \n",
    "    plt.plot(X_test, y_test, \"b+\")\n",
    "    plt.plot(np.sort(X_test.values.flatten()), y_test.values[np.argsort(X_test.values.flatten())], \"b--\", alpha=0.3, label=\"actual data\")\n",
    "    plt.plot(X_test, y_pred, \"r+\")\n",
    "    plt.plot(np.sort(X_test.values.flatten()), y_pred[np.argsort(X_test.values.flatten())], \"r--\", alpha=0.3, label=\"predicted data\")\n",
    "    plt.title(\"Actual against predicted data\")\n",
    "    plt.xlabel(\"Independent variable X\")\n",
    "    plt.ylabel(\"Target variable y\")\n",
    "    leg = plt.legend()\n",
    "    for lh in leg.legendHandles: \n",
    "        lh.set_alpha(1)\n",
    "    plt.show()\n",
    "\n",
    "    plt.plot(np.sort(X_test.values.flatten()), y_test.values[np.argsort(X_test.values.flatten())], \"b+\")\n",
    "    plt.plot(np.sort(X_test.values.flatten()), y_test.values[np.argsort(X_test.values.flatten())], \"b--\", alpha=0.3, label=\"actual data\")\n",
    "    plt.plot(X_test, np.full(y_test.shape[0], np.mean(y_train.values)), \"g+\")\n",
    "    plt.plot(np.sort(X_test.values.flatten()), np.full(y_test.shape[0], np.mean(y_train.values)), \"g--\", alpha=0.3, label=\"mean data\")\n",
    "    plt.title(\"Actual against mean data\")\n",
    "    plt.xlabel(\"Independent variable X\")\n",
    "    plt.ylabel(\"Target variable y\")\n",
    "    leg = plt.legend()\n",
    "    for lh in leg.legendHandles: \n",
    "        lh.set_alpha(1)\n",
    "    plt.show()\n",
    "    plt.show()"
   ]
  }
 ],
 "metadata": {
  "kernelspec": {
   "display_name": "Python 3",
   "language": "python",
   "name": "python3"
  },
  "language_info": {
   "codemirror_mode": {
    "name": "ipython",
    "version": 3
   },
   "file_extension": ".py",
   "mimetype": "text/x-python",
   "name": "python",
   "nbconvert_exporter": "python",
   "pygments_lexer": "ipython3",
   "version": "3.7.4"
  }
 },
 "nbformat": 4,
 "nbformat_minor": 2
}
