{
 "cells": [
  {
   "cell_type": "markdown",
   "metadata": {},
   "source": [
    "# Import libraries"
   ]
  },
  {
   "cell_type": "code",
   "execution_count": null,
   "metadata": {},
   "outputs": [],
   "source": [
    "import pandas as pd\n",
    "import numpy as np\n",
    "import math\n",
    "import matplotlib.pyplot as plt\n",
    "import itertools as it\n",
    "import time"
   ]
  },
  {
   "cell_type": "markdown",
   "metadata": {},
   "source": [
    "# Train, test, verification split"
   ]
  },
  {
   "cell_type": "code",
   "execution_count": null,
   "metadata": {},
   "outputs": [],
   "source": [
    "def train_test_verification_split(X, y, split_tr, split_v, split_te):    \n",
    "    # define the data split\n",
    "    total_count = X.shape[0]\n",
    "    train_split = int(total_count * split_tr)\n",
    "    ver_split = int(total_count * split_v) + train_split\n",
    "    test_split = int(total_count * split_te) + ver_split\n",
    "    return X[:train_split], y[:train_split], X[train_split:ver_split], y[train_split:ver_split], X[ver_split:test_split], y[ver_split:test_split]"
   ]
  },
  {
   "cell_type": "markdown",
   "metadata": {},
   "source": [
    "# Read the data"
   ]
  },
  {
   "cell_type": "markdown",
   "metadata": {},
   "source": [
    "### Run this for the toy problem"
   ]
  },
  {
   "cell_type": "code",
   "execution_count": null,
   "metadata": {},
   "outputs": [],
   "source": [
    "toy_problem = True\n",
    "print(\"Using the toy problem...\")\n",
    "f = lambda x: np.sin(0.9*x)\n",
    "#f = lambda x: np.exp(x)\n",
    "#f = lambda x: 2*x+4\n",
    "\n",
    "X_data = np.linspace(-5,5,100).reshape(-1,1)\n",
    "y_data = f(X_data)\n",
    "\n",
    "df = pd.DataFrame(np.c_[X_data, y_data])\n",
    "# shuffle data\n",
    "df = df.sample(frac=1).reset_index(drop=True)\n",
    "\n",
    "# split off the target variable\n",
    "X, y = df.iloc[:,:-1], df.iloc[:,-1]\n",
    "# normalise data\n",
    "X = (X - X.min()) / (X.max() - X.min())\n",
    "\n",
    "print(\"Splitting data...\")\n",
    "X_train, y_train, X_ver, y_ver, X_test, y_test = train_test_verification_split(X, y, 0.6, 0.2, 0.2)\n",
    "\n",
    "plt.plot(X, y, \"r+\")\n",
    "plt.title(\"The whole dataset\")\n",
    "plt.xlabel(\"X\")\n",
    "plt.ylabel(\"y\")\n",
    "plt.show()"
   ]
  },
  {
   "cell_type": "markdown",
   "metadata": {},
   "source": [
    "### Run this for the SARCOS dataset"
   ]
  },
  {
   "cell_type": "code",
   "execution_count": null,
   "metadata": {},
   "outputs": [],
   "source": [
    "toy_problem = False\n",
    "print(\"Using the SARCOS dataset...\")\n",
    "# read in csv file\n",
    "df = pd.read_csv(\"sarcos_inv.csv\", header=None)\n",
    "# shuffle data\n",
    "df = df.sample(frac=1).reset_index(drop=True)\n",
    "\n",
    "# split off the target variable\n",
    "X, y = df.iloc[:,:-1], df.iloc[:,-1]\n",
    "# normalise data\n",
    "X = (X - X.min()) / (X.max() - X.min())\n",
    "\n",
    "print(\"Splitting data...\")\n",
    "X_train, y_train, X_ver, y_ver, X_test, y_test = train_test_verification_split(X, y, 0.6, 0.2, 0.2)"
   ]
  },
  {
   "cell_type": "markdown",
   "metadata": {},
   "source": [
    "# Utility class\n",
    "\n",
    "This function computes the root mean squared error, given the actual data and the predicted data of the target variable."
   ]
  },
  {
   "cell_type": "code",
   "execution_count": null,
   "metadata": {},
   "outputs": [],
   "source": [
    "class util():\n",
    "    @staticmethod\n",
    "    def score(actual, prediction):\n",
    "        return math.sqrt(np.mean((actual - prediction)**2))\n",
    "    \n",
    "    @staticmethod\n",
    "    def squared_error(actual, prediction):\n",
    "        return np.sum((actual - prediction)**2)\n",
    "    \n",
    "    @staticmethod\n",
    "    def mean_absolute_error(actual, prediction):\n",
    "        return np.sum(np.fabs(actual - prediction)) / actual.shape[0]"
   ]
  },
  {
   "cell_type": "markdown",
   "metadata": {},
   "source": [
    "# Random Forest regression\n",
    "\n",
    "This is my implementation of random forest regression."
   ]
  },
  {
   "cell_type": "code",
   "execution_count": null,
   "metadata": {},
   "outputs": [],
   "source": [
    "class DecisionTree():\n",
    "    def __init__(self, x, y, feature_split, min_leaf, depth):\n",
    "        self.x = x\n",
    "        self.y = y\n",
    "        self.min_leaf = min_leaf\n",
    "        self.depth = depth\n",
    "        self.row_count = x.shape[0]\n",
    "        self.idxs = np.array(range(self.row_count))\n",
    "        self.feature_split = np.random.choice(range(x.shape[1]), size=feature_split.shape[0], replace=False)\n",
    "        self.val = np.mean(y.values[self.idxs])\n",
    "        self.score = np.inf\n",
    "\n",
    "        self.left_tree = None\n",
    "        self.right_tree = None\n",
    "        self.split_feature = None\n",
    "        self.split_val = None\n",
    "\n",
    "        self.find_feature_split()\n",
    "\n",
    "    def find_feature_split(self):\n",
    "        for fea in self.feature_split:\n",
    "            self.check_feature_split(fea)\n",
    "\n",
    "        if self.is_leaf:\n",
    "            return\n",
    "\n",
    "        x = self.split_col\n",
    "\n",
    "        lhs = np.nonzero(x <= self.split_val)[0]\n",
    "        rhs = np.nonzero(x > self.split_val)[0]\n",
    "\n",
    "        self.left_tree = DecisionTree(self.x.iloc[lhs], self.y.iloc[lhs], self.feature_split, self.min_leaf, self.depth - 1)\n",
    "        self.right_tree = DecisionTree(self.x.iloc[rhs], self.y.iloc[rhs], self.feature_split, self.min_leaf, self.depth - 1)\n",
    "\n",
    "    def check_feature_split(self, feature):\n",
    "        x = self.x.values[self.idxs, feature]\n",
    "        y = self.y.values[self.idxs]\n",
    "\n",
    "        sorted_idx = np.argsort(x)\n",
    "        sorted_x = x[sorted_idx]\n",
    "        sorted_y = y[sorted_idx]\n",
    "\n",
    "        rhs_count = self.row_count\n",
    "        rhs_sum = np.sum(sorted_y)\n",
    "        rhs_square_sum = np.sum(sorted_y ** 2)\n",
    "\n",
    "        lhs_count = 0\n",
    "        lhs_sum = 0.0\n",
    "        lhs_square_sum = 0.0\n",
    "\n",
    "        for i in range(0, self.row_count - self.min_leaf):\n",
    "            x_i = sorted_x[i]\n",
    "            y_i = sorted_y[i]\n",
    "\n",
    "            lhs_count += 1\n",
    "            rhs_count -= 1\n",
    "\n",
    "            lhs_sum += y_i\n",
    "            rhs_sum -= y_i\n",
    "\n",
    "            lhs_square_sum += y_i ** 2\n",
    "            rhs_square_sum -= y_i ** 2\n",
    "\n",
    "            if i < self.min_leaf - 1 or x_i == sorted_x[i + 1]:\n",
    "                continue\n",
    "\n",
    "            lhs_std = self.std(lhs_count, lhs_sum, lhs_square_sum)\n",
    "            rhs_std = self.std(rhs_count, rhs_sum, rhs_square_sum)\n",
    "            curr_score = lhs_std * lhs_count + rhs_std * rhs_count\n",
    "\n",
    "            if curr_score < self.score:\n",
    "                self.split_feature = feature\n",
    "                self.score = curr_score\n",
    "                self.split_val = x_i\n",
    "\n",
    "    def std(self, count, sum_val, square_sum):\n",
    "        return math.sqrt(math.fabs((square_sum / count) - (sum_val / count) ** 2))\n",
    "\n",
    "    @property\n",
    "    def split_name(self):\n",
    "        return self.x.columns[self.split_feature]\n",
    "\n",
    "    @property\n",
    "    def split_col(self):\n",
    "        return self.x.values[self.idxs, self.split_feature]\n",
    "\n",
    "    @property\n",
    "    def is_leaf(self):\n",
    "        return self.score == np.inf or self.depth <= 0\n",
    "\n",
    "    def predict(self, x):\n",
    "        rows = [self.predict_row(x_i[1]) for x_i in x.iterrows()]\n",
    "        return np.array(rows)\n",
    "\n",
    "    def predict_row(self, x_i):\n",
    "        if self.is_leaf:\n",
    "            return self.val\n",
    "\n",
    "        if x_i[self.split_feature] <= self.split_val:\n",
    "            return self.left_tree.predict_row(x_i)\n",
    "        else:\n",
    "            return self.right_tree.predict_row(x_i)\n"
   ]
  },
  {
   "cell_type": "code",
   "execution_count": null,
   "metadata": {},
   "outputs": [],
   "source": [
    "class RandomForest():\n",
    "    def __init__(self, n_estimators, feature_split, sample_size, min_leaf=1, depth=10):\n",
    "        self.n_estimators = n_estimators\n",
    "        self.feature_split = np.random.randint(0, int(feature_split), size=int(feature_split))\n",
    "        self.sample_size = sample_size\n",
    "        self.min_leaf = min_leaf\n",
    "        self.depth = depth\n",
    "        self.trees = None\n",
    "\n",
    "    def create_tree(self, x, y):\n",
    "        idxs = np.random.randint(y.shape[0], size=self.sample_size)\n",
    "        return DecisionTree(x.iloc[idxs], y.iloc[idxs], self.feature_split, self.min_leaf, self.depth)\n",
    "\n",
    "    def fit(self, x, y):\n",
    "        self.trees = None\n",
    "        self.trees = [self.create_tree(x, y) for i in range(self.n_estimators)]\n",
    "\n",
    "    def predict(self, x):\n",
    "        tree_predictions = [tree.predict(x) for tree in self.trees]\n",
    "        prediction = np.mean(tree_predictions, axis=0)\n",
    "        return prediction\n"
   ]
  },
  {
   "cell_type": "code",
   "execution_count": null,
   "metadata": {
    "scrolled": true
   },
   "outputs": [],
   "source": [
    "def perform_rf(X_, y_, number_of_features):\n",
    "    print(\"number of features: \", number_of_features)\n",
    "    \n",
    "    # train the model\n",
    "    rf_regressor = RandomForest(n_estimators=20, feature_split=number_of_features, sample_size=X_train.shape[0], min_leaf=1, depth=10)\n",
    "    rf_regressor.fit(X_train, y_train)\n",
    "    \n",
    "    # predict\n",
    "    y_pred = rf_regressor.predict(X_)\n",
    "\n",
    "    # compute rmse\n",
    "    rmse = util.score(y_.values.flatten(), y_pred)\n",
    "    \n",
    "    print(\"The RMSE is {}\".format(rmse))\n",
    "    \n",
    "    return rmse, y_pred"
   ]
  },
  {
   "cell_type": "markdown",
   "metadata": {},
   "source": [
    "##### The cells below are used to tune the hyperparameters using the verification set"
   ]
  },
  {
   "cell_type": "code",
   "execution_count": null,
   "metadata": {},
   "outputs": [],
   "source": [
    "def get_best_hyperparameters(feature_sel):\n",
    "    rmse_arr = []\n",
    "    elapsed_time_arr = []\n",
    "    for number_of_features in feature_sel:\n",
    "        start_time = time.time()\n",
    "        rmse, _ = perform_rf(X_ver, y_ver, number_of_features)\n",
    "        elapsed_time = time.time() - start_time\n",
    "        print(\"Time taken: \", elapsed_time,\"\\n\")\n",
    "        elapsed_time_arr.append(elapsed_time)\n",
    "        rmse_arr.append(rmse)\n",
    "        \n",
    "    return feature_sel[np.argmin(rmse_arr)], rmse_arr, elapsed_time_arr"
   ]
  },
  {
   "cell_type": "code",
   "execution_count": null,
   "metadata": {
    "scrolled": false
   },
   "outputs": [],
   "source": [
    "print(\"This will take a little...\")\n",
    "print(\"Finding the best hyperparameters...\")\n",
    "#feature_sel = [int(np.sqrt(X_train.shape[1])), 10, 12]\n",
    "if toy_problem:\n",
    "    feature_sel = [0,1]\n",
    "else:\n",
    "    feature_sel = [12,13,15,16,17]\n",
    "# tune the hyperparameters with the verification set\n",
    "best_feature_sel, rmse_arr, elapsed_time_arr, = get_best_hyperparameters(feature_sel)"
   ]
  },
  {
   "cell_type": "markdown",
   "metadata": {},
   "source": [
    "##### This cell uses the tuned hyperparameters and predicts with the test set"
   ]
  },
  {
   "cell_type": "code",
   "execution_count": null,
   "metadata": {},
   "outputs": [],
   "source": [
    "print(\"This will take about 10 minutes...\")\n",
    "print(\"\\nPerforming the trained model on the test set with the tuned hyperparameters...\")\n",
    "start_time = time.time()\n",
    "# predict on the test set\n",
    "rmse_test, y_pred = perform_rf(X_test, y_test, best_feature_sel)\n",
    "elapsed_time = time.time() - start_time\n",
    "\n",
    "print(\"Time taken: \", elapsed_time)"
   ]
  },
  {
   "cell_type": "markdown",
   "metadata": {},
   "source": [
    "### Plot a graph to show the best number of features"
   ]
  },
  {
   "cell_type": "code",
   "execution_count": null,
   "metadata": {},
   "outputs": [],
   "source": [
    "plt.plot(feature_sel, rmse_arr, \"y-\")\n",
    "plt.xlabel(\"Number of features\")\n",
    "plt.ylabel(\"RMSE\")\n",
    "plt.show()\n",
    "\n",
    "plt.plot(feature_sel, elapsed_time_arr, \"y-\")\n",
    "plt.ylabel(\"Time taken (seconds)\")\n",
    "plt.xlabel(\"Number of features\")\n",
    "plt.show()"
   ]
  },
  {
   "cell_type": "code",
   "execution_count": null,
   "metadata": {
    "scrolled": false
   },
   "outputs": [],
   "source": [
    "if toy_problem:\n",
    "\n",
    "    plt.plot(X_test, y_test, \"r+\")\n",
    "    plt.show()\n",
    "\n",
    "    plt.plot(X_test, y_pred, \"r+\")\n",
    "    plt.show()\n",
    "\n",
    "    plt.plot(np.sort(X_test.values.flatten()), y_test.values[np.argsort(X_test.values.flatten())], \"b+\")\n",
    "    plt.plot(np.sort(X_test.values.flatten()), y_test.values[np.argsort(X_test.values.flatten())], \"b--\", alpha=0.3, label=\"actual data\")\n",
    "    plt.plot(X_test, y_pred, \"r+\")\n",
    "    plt.plot(np.sort(X_test.values.flatten()), y_pred[np.argsort(X_test.values.flatten())], \"r--\", alpha=0.3, label=\"predicted data\")\n",
    "    plt.xlabel(\"Independent variable X\")\n",
    "    plt.ylabel(\"Target variable y\")\n",
    "    leg = plt.legend()\n",
    "    for lh in leg.legendHandles: \n",
    "        lh.set_alpha(1)\n",
    "    plt.show()\n",
    "\n",
    "    plt.plot(np.sort(X_test.values.flatten()), y_test.values[np.argsort(X_test.values.flatten())], \"b+\")\n",
    "    plt.plot(np.sort(X_test.values.flatten()), y_test.values[np.argsort(X_test.values.flatten())], \"b--\", alpha=0.3, label=\"actual data\")\n",
    "    plt.plot(X_test, np.full(y_test.shape[0], np.mean(y_train.values)), \"g+\")\n",
    "    plt.plot(np.sort(X_test.values.flatten()), np.full(y_test.shape[0], np.mean(y_train.values)), \"g--\", alpha=0.3, label=\"mean data\")\n",
    "    plt.xlabel(\"Independent variable X\")\n",
    "    plt.ylabel(\"Target variable y\")\n",
    "    leg = plt.legend()\n",
    "    for lh in leg.legendHandles: \n",
    "        lh.set_alpha(1)\n",
    "    plt.show()\n",
    "\n",
    "\n",
    "    plt.plot(np.sort(X_test.values.flatten()), y_test.values[np.argsort(X_test.values.flatten())], \"b-\", label=\"actual data\")\n",
    "    plt.plot(X_test, y_pred, \"r+\", markersize=20, label=\"predicted data\")\n",
    "    plt.xlabel(\"Independent variable X\")\n",
    "    plt.ylabel(\"Target variable y\")\n",
    "    plt.legend()\n",
    "    plt.show()\n",
    "\n",
    "\n"
   ]
  },
  {
   "cell_type": "code",
   "execution_count": null,
   "metadata": {},
   "outputs": [],
   "source": []
  }
 ],
 "metadata": {
  "kernelspec": {
   "display_name": "Python 3",
   "language": "python",
   "name": "python3"
  },
  "language_info": {
   "codemirror_mode": {
    "name": "ipython",
    "version": 3
   },
   "file_extension": ".py",
   "mimetype": "text/x-python",
   "name": "python",
   "nbconvert_exporter": "python",
   "pygments_lexer": "ipython3",
   "version": "3.7.3"
  }
 },
 "nbformat": 4,
 "nbformat_minor": 2
}
