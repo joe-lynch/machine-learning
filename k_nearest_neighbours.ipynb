{
 "cells": [
  {
   "cell_type": "markdown",
   "metadata": {},
   "source": [
    "# Import libraries"
   ]
  },
  {
   "cell_type": "code",
   "execution_count": 1,
   "metadata": {},
   "outputs": [],
   "source": [
    "import pandas as pd\n",
    "import numpy as np\n",
    "import math\n",
    "import matplotlib.pyplot as plt\n",
    "import itertools as it\n",
    "import copy"
   ]
  },
  {
   "cell_type": "markdown",
   "metadata": {},
   "source": [
    "# Train, test, verification split"
   ]
  },
  {
   "cell_type": "code",
   "execution_count": 2,
   "metadata": {},
   "outputs": [],
   "source": [
    "def train_test_verification_split(X, y, split_tr, split_v, split_te):    \n",
    "    # define the data split\n",
    "    total_count = X.shape[0]\n",
    "    split = int(total_count * split_tr)\n",
    "    return X[:split], y[:split], X[split:], y[split:]"
   ]
  },
  {
   "cell_type": "markdown",
   "metadata": {},
   "source": [
    "# Read the data"
   ]
  },
  {
   "cell_type": "markdown",
   "metadata": {},
   "source": [
    "### Run this for the toy problem"
   ]
  },
  {
   "cell_type": "code",
   "execution_count": null,
   "metadata": {},
   "outputs": [],
   "source": [
    "toy_problem = True\n",
    "print(\"Using the toy problem...\")\n",
    "f = lambda x: np.sin(0.9*x)\n",
    "#f = lambda x: np.exp(x)\n",
    "#f = lambda x: 2*x+4\n",
    "\n",
    "X_data = np.linspace(-5,5,100).reshape(-1,1)\n",
    "y_data = f(X_data)\n",
    "\n",
    "df = pd.DataFrame(np.c_[X_data, y_data])\n",
    "# shuffle data\n",
    "df = df.sample(frac=1).reset_index(drop=True)\n",
    "\n",
    "# split off the target variable\n",
    "X, y = df.iloc[:,:-1], df.iloc[:,-1]\n",
    "# normalise data\n",
    "X = (X - X.min()) / (X.max() - X.min())\n",
    "\n",
    "print(\"Splitting data...\")\n",
    "X_train, y_train, X_test, y_test = train_test_verification_split(X, y, 0.6, 0.2, 0.2)\n",
    "\n",
    "plt.plot(X, y, \"r+\")\n",
    "plt.xlabel(\"Independent variable X\")\n",
    "plt.ylabel(\"Target variable y\")\n",
    "plt.show()"
   ]
  },
  {
   "cell_type": "markdown",
   "metadata": {},
   "source": [
    "### Run this for the SARCOS dataset"
   ]
  },
  {
   "cell_type": "code",
   "execution_count": 3,
   "metadata": {},
   "outputs": [
    {
     "name": "stdout",
     "output_type": "stream",
     "text": [
      "Using the SARCOS dataset...\n",
      "Splitting data...\n"
     ]
    }
   ],
   "source": [
    "toy_problem = False\n",
    "print(\"Using the SARCOS dataset...\")\n",
    "# read in csv file\n",
    "df = pd.read_csv(\"sarcos_inv.csv\", header=None)\n",
    "# shuffle data\n",
    "df = df.sample(frac=1).reset_index(drop=True)\n",
    "\n",
    "# split off the target variable\n",
    "X, y = df.iloc[:,:-1], df.iloc[:,-1]\n",
    "# normalise data\n",
    "X = (X - X.min()) / (X.max() - X.min())\n",
    "\n",
    "print(\"Splitting data...\")\n",
    "X_train, y_train, X_test, y_test = train_test_verification_split(X, y, 0.6, 0.2, 0.2)"
   ]
  },
  {
   "cell_type": "markdown",
   "metadata": {},
   "source": [
    "# Utility class\n",
    "\n",
    "This function computes the root mean squared error, given the actual data and the predicted data of the target variable."
   ]
  },
  {
   "cell_type": "code",
   "execution_count": 4,
   "metadata": {},
   "outputs": [],
   "source": [
    "class util():\n",
    "    @staticmethod\n",
    "    def score(actual, prediction):\n",
    "        return math.sqrt(np.mean((actual - prediction)**2))\n",
    "    \n",
    "    @staticmethod\n",
    "    def squared_error(actual, prediction):\n",
    "        return np.sum((actual - prediction)**2)\n",
    "    \n",
    "    @staticmethod\n",
    "    def mean_absolute_error(actual, prediction):\n",
    "        return np.sum(np.fabs(actual - prediction)) / actual.shape[0]"
   ]
  },
  {
   "cell_type": "markdown",
   "metadata": {},
   "source": [
    "# K Nearest Neighbours regression\n",
    "\n",
    "This is my implementation of K Nearest Neighbours regression."
   ]
  },
  {
   "cell_type": "code",
   "execution_count": 5,
   "metadata": {},
   "outputs": [],
   "source": [
    "class k_nearest_neighbours():\n",
    "    \n",
    "    def __init__(self, k):\n",
    "        self.k = k\n",
    "        \n",
    "    def fit(self, X_train, y_train):\n",
    "        self.X_train = X_train\n",
    "        self.y_train = y_train\n",
    "    \n",
    "    def predict(self, X):\n",
    "        # compute distance matrix\n",
    "        distances_sq = np.einsum('ij, ij ->i', X, X)[:, None] +\\\n",
    "                    np.einsum('ij, ij ->i', self.X_train, self.X_train) -\\\n",
    "                    2 * X.dot(self.X_train.T)\n",
    "    \n",
    "        # calculate the mean of the k neighbours - the prediction\n",
    "        y_pred = np.mean(self.y_train[np.argsort(distances_sq)[:,:self.k]], axis=1)\n",
    "        \n",
    "        #return the prediction\n",
    "        return y_pred"
   ]
  },
  {
   "cell_type": "code",
   "execution_count": 6,
   "metadata": {},
   "outputs": [],
   "source": [
    "def perform_knn(k, X_tr, y_tr, X_, y_):    \n",
    "    # train\n",
    "    knn_regressor = k_nearest_neighbours(k)\n",
    "    knn_regressor.fit(X_tr.values, y_tr.values)\n",
    "    \n",
    "    # predict\n",
    "    y_pred = knn_regressor.predict(X_.values)\n",
    "\n",
    "    # compute rmse\n",
    "    rmse = util.score(y_.values.flatten(), y_pred.flatten())\n",
    "    print(\"The RMSE for k={} is {}\".format(k, rmse))  \n",
    "    \n",
    "    return rmse, y_pred"
   ]
  },
  {
   "cell_type": "code",
   "execution_count": 7,
   "metadata": {},
   "outputs": [],
   "source": [
    "def cross_validate(data, k):\n",
    "    lists = np.split(data, 5)\n",
    "    rmse_arr = []\n",
    "    for test_set in lists:\n",
    "        X_test = pd.DataFrame(test_set[:,:-1])\n",
    "        y_test = pd.DataFrame(test_set[:,-1])\n",
    "        train_set = []\n",
    "        \n",
    "        for i in lists:\n",
    "            if not np.all(np.isclose(test_set, i)):\n",
    "                train_set.append(i)\n",
    "        \n",
    "        train_set1 = np.asarray(train_set)\n",
    "        train_set2 = train_set1.reshape(train_set1.shape[0]*train_set1.shape[1], train_set1.shape[2])\n",
    "\n",
    "        X_tr = pd.DataFrame(train_set2[:,:-1])\n",
    "        y_tr = pd.DataFrame(train_set2[:,-1])\n",
    "          \n",
    "        rmse, _, = perform_knn(k, X_tr, y_tr, X_test, y_test)\n",
    "        rmse_arr.append(rmse)\n",
    "    return np.mean(rmse_arr)   "
   ]
  },
  {
   "cell_type": "markdown",
   "metadata": {},
   "source": [
    "##### The cells below are used to tune the hyperparameters using the verification set"
   ]
  },
  {
   "cell_type": "code",
   "execution_count": 8,
   "metadata": {},
   "outputs": [],
   "source": [
    "# find the best k using the verfication set\n",
    "def get_best_k(max_k):\n",
    "    rmse_arr = []\n",
    "    for k in range(1, max_k+1):\n",
    "        rmse = cross_validate(np.c_[X_train, y_train], k)\n",
    "        rmse_arr.append(rmse)\n",
    "    return np.argmin(rmse_arr)+1, rmse_arr"
   ]
  },
  {
   "cell_type": "code",
   "execution_count": 9,
   "metadata": {
    "scrolled": false
   },
   "outputs": [
    {
     "name": "stdout",
     "output_type": "stream",
     "text": [
      "This will take a couple minutes...\n",
      "Finding the best k value using cross validation...\n",
      "The RMSE for k=1 is 4.793069436600454\n",
      "The RMSE for k=1 is 4.728626232379359\n",
      "The RMSE for k=1 is 4.860350897137897\n",
      "The RMSE for k=1 is 4.793870787356438\n",
      "The RMSE for k=1 is 4.753509684885847\n",
      "The RMSE for k=2 is 4.059656326556451\n",
      "The RMSE for k=2 is 4.159556947373653\n",
      "The RMSE for k=2 is 4.074604921322737\n",
      "The RMSE for k=2 is 4.224546575038194\n",
      "The RMSE for k=2 is 3.9168984633276707\n",
      "The RMSE for k=3 is 4.041491577486768\n",
      "The RMSE for k=3 is 4.157641150317737\n",
      "The RMSE for k=3 is 4.079018291799268\n",
      "The RMSE for k=3 is 4.129885196154053\n",
      "The RMSE for k=3 is 3.9272248467879014\n",
      "The RMSE for k=4 is 4.087654454493418\n",
      "The RMSE for k=4 is 4.185591164449055\n",
      "The RMSE for k=4 is 4.105706643426289\n",
      "The RMSE for k=4 is 4.175787436830977\n",
      "The RMSE for k=4 is 4.068762443458335\n",
      "The RMSE for k=5 is 4.214973850008755\n",
      "The RMSE for k=5 is 4.299376311862975\n",
      "The RMSE for k=5 is 4.219833312288062\n",
      "The RMSE for k=5 is 4.288465869706311\n",
      "The RMSE for k=5 is 4.193198789262341\n",
      "The RMSE for k=6 is 4.324697949740653\n",
      "The RMSE for k=6 is 4.383792564876572\n",
      "The RMSE for k=6 is 4.319099333551241\n",
      "The RMSE for k=6 is 4.418749022741499\n",
      "The RMSE for k=6 is 4.3502401439080165\n",
      "The RMSE for k=7 is 4.429543953147661\n",
      "The RMSE for k=7 is 4.4740764936276225\n",
      "The RMSE for k=7 is 4.47862957430111\n",
      "The RMSE for k=7 is 4.522402209290398\n",
      "The RMSE for k=7 is 4.479101859859898\n",
      "The RMSE for k=8 is 4.544877259249924\n",
      "The RMSE for k=8 is 4.617433356617832\n",
      "The RMSE for k=8 is 4.597214039211029\n",
      "The RMSE for k=8 is 4.60960340623246\n",
      "The RMSE for k=8 is 4.565116056365098\n",
      "The RMSE for k=9 is 4.69930205019761\n",
      "The RMSE for k=9 is 4.77504364830707\n",
      "The RMSE for k=9 is 4.688004309792168\n",
      "The RMSE for k=9 is 4.742949368477874\n",
      "The RMSE for k=9 is 4.691987053431913\n",
      "The RMSE for k=10 is 4.771929510021577\n",
      "The RMSE for k=10 is 4.909717080563177\n",
      "The RMSE for k=10 is 4.8221363681314875\n",
      "The RMSE for k=10 is 4.844655727410709\n",
      "The RMSE for k=10 is 4.7925065898180375\n"
     ]
    }
   ],
   "source": [
    "print(\"This will take a couple minutes...\")\n",
    "print(\"Finding the best k value using cross validation...\")\n",
    "# tune the hyperparameter with the verification set\n",
    "max_k = 10\n",
    "best_k, rmse_arr = get_best_k(max_k)"
   ]
  },
  {
   "cell_type": "markdown",
   "metadata": {},
   "source": [
    "#### The cell below is for using the trained model to predict with the test set"
   ]
  },
  {
   "cell_type": "code",
   "execution_count": 10,
   "metadata": {},
   "outputs": [
    {
     "name": "stdout",
     "output_type": "stream",
     "text": [
      "\n",
      "Performing the trained model on the test set with the best k, k=3...\n",
      "The RMSE for k=3 is 3.7452267653670086\n"
     ]
    }
   ],
   "source": [
    "print(\"\\nPerforming the trained model on the test set with the best k, k={}...\".format(best_k))\n",
    "rmse_test, y_pred = perform_knn(best_k, X_train, y_train, X_test, y_test)"
   ]
  },
  {
   "cell_type": "markdown",
   "metadata": {},
   "source": [
    "#### Plot the 'elbow curve' to show the best K value"
   ]
  },
  {
   "cell_type": "code",
   "execution_count": 11,
   "metadata": {},
   "outputs": [
    {
     "data": {
      "image/png": "[encoded data removed]",
      "text/plain": [
       "<Figure size 432x288 with 1 Axes>"
      ]
     },
     "metadata": {
      "needs_background": "light"
     },
     "output_type": "display_data"
    }
   ],
   "source": [
    "plt.plot(np.arange(1,max_k+1), rmse_arr, \"r-\")\n",
    "plt.xticks(np.arange(1,max_k+1))\n",
    "plt.xlabel(\"K Nearest Neighbours\")\n",
    "plt.ylabel(\"Root Mean Squared Error\")\n",
    "plt.show()"
   ]
  },
  {
   "cell_type": "markdown",
   "metadata": {},
   "source": [
    "### Plot to check that KNN works for the toy problem"
   ]
  },
  {
   "cell_type": "code",
   "execution_count": null,
   "metadata": {
    "scrolled": false
   },
   "outputs": [],
   "source": [
    "if toy_problem:\n",
    "    plt.plot(X_test, y_test, \"r+\")\n",
    "    plt.title(\"Actual data\")\n",
    "    plt.xlabel(\"Independent variable X\")\n",
    "    plt.ylabel(\"Target variable y\")\n",
    "    plt.show()\n",
    "\n",
    "    plt.plot(X_test, y_pred, \"r+\")\n",
    "    plt.title(\"Predicted data\")\n",
    "    plt.xlabel(\"Independent variable X\")\n",
    "    plt.ylabel(\"Target variable y\")\n",
    "    plt.show()\n",
    "\n",
    "    plt.plot(np.sort(X_test.values.flatten()), y_test.values[np.argsort(X_test.values.flatten())], \"b-\", label=\"actual data\")\n",
    "    plt.plot(X_test, y_pred, \"r+\", markersize=20, label=\"predicted data\")\n",
    "    plt.title(\"Comparison between actual and predicted data\")\n",
    "    plt.xlabel(\"Feature variable X\")\n",
    "    plt.ylabel(\"Target variable y\")\n",
    "    plt.legend()\n",
    "    plt.show()"
   ]
  }
 ],
 "metadata": {
  "kernelspec": {
   "display_name": "Python 3",
   "language": "python",
   "name": "python3"
  },
  "language_info": {
   "codemirror_mode": {
    "name": "ipython",
    "version": 3
   },
   "file_extension": ".py",
   "mimetype": "text/x-python",
   "name": "python",
   "nbconvert_exporter": "python",
   "pygments_lexer": "ipython3",
   "version": "3.7.3"
  }
 },
 "nbformat": 4,
 "nbformat_minor": 2
}
